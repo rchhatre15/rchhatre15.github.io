{
 "cells": [
  {
   "cell_type": "markdown",
   "metadata": {},
   "source": [
    "# Evalauting Popular Assets\n",
    "\n",
    "Rohan Chhatre & Guillermo Mascaro Madera"
   ]
  },
  {
   "cell_type": "markdown",
   "metadata": {},
   "source": [
    "## Introduction\n",
    "\n",
    "What should I invest in? This is a question that has baffled investors for years. With so many assets readily available for purchase in our modern economy, it is becoming increasingly difficult to establish a personal portfolio.\n",
    "\n",
    "The following tutorial will analyze 5 popular assets:\n",
    "\n",
    "- American Farm Land\n",
    "- Bitcoin\n",
    "- The S&P 500 ($SPX)\n",
    "- Gold\n",
    "- Crude Oil\n"
   ]
  },
  {
   "cell_type": "markdown",
   "metadata": {},
   "source": [
    "Below are all the python libraries that will be utilized in this tutorial."
   ]
  },
  {
   "cell_type": "code",
   "execution_count": 23,
   "metadata": {},
   "outputs": [],
   "source": [
    "# standard Python libraries for data science\n",
    "import numpy as np\n",
    "import pandas as pd\n",
    "import sklearn\n",
    "from sklearn import linear_model\n",
    "\n",
    "# Python libraries for HTTP requests of data from web pages\n",
    "from selenium import webdriver\n",
    "from selenium.webdriver.chrome.service import Service\n",
    "from selenium.webdriver.chrome.options import Options\n",
    "from bs4 import BeautifulSoup\n",
    "\n",
    "# standard default dictionary module\n",
    "from collections import defaultdict\n",
    "\n",
    "# Python libraries for graphing and visualizations\n",
    "import matplotlib.pyplot as plt\n",
    "import statsmodels.api\n",
    "import statsmodels.formula.api as sm\n",
    "import seaborn\n",
    "import folium"
   ]
  },
  {
   "cell_type": "markdown",
   "metadata": {},
   "source": [
    "## Part 1: Data Curation, Parsing, and Management"
   ]
  },
  {
   "cell_type": "markdown",
   "metadata": {},
   "source": [
    "American farm land data, more specifically average farm real estate value, was the least appealing to collect (as a data scientist). The most accurate data was published by the US Department of Agriculture but only in the form of a chart, not an easily scrabable table. Thus the data for American farm land is hardcoded below, a method that is difficult to scale but necessary for this project. \n",
    "\n",
    "The original farm land data can be found here: https://www.nass.usda.gov/Charts_and_Maps/Land_Values/index.php"
   ]
  },
  {
   "cell_type": "code",
   "execution_count": 24,
   "metadata": {},
   "outputs": [
    {
     "name": "stdout",
     "output_type": "stream",
     "text": [
      "    Year  Dollars_Per_Acre\n",
      "0   2009              2090\n",
      "1   2010              2150\n",
      "2   2011              2300\n",
      "3   2012              2520\n",
      "4   2013              2730\n",
      "5   2014              2940\n",
      "6   2015              3000\n",
      "7   2016              2990\n",
      "8   2017              3030\n",
      "9   2018              3100\n",
      "10  2019              3140\n",
      "11  2020              3130\n",
      "12  2021              3330\n",
      "13  2022              3720\n",
      "14  2023              3970\n"
     ]
    }
   ],
   "source": [
    "land_data = {\n",
    "    'Year': [2009, 2010, 2011, 2012, 2013, 2014, 2015, 2016, 2017, 2018, 2019, 2020, 2021, 2022, 2023],\n",
    "    'Dollars_Per_Acre': [2090, 2150, 2300, 2520, 2730, 2940, 3000, 2990, 3030, 3100, 3140, 3130, 3330, 3720, 3970]\n",
    "}\n",
    "\n",
    "land_df = pd.DataFrame(land_data)\n",
    "\n",
    "# Display the DataFrame\n",
    "print(land_df)"
   ]
  },
  {
   "cell_type": "markdown",
   "metadata": {},
   "source": [
    "There was a plethora of data available for historical bitcoin prices, which is intuitive given the nature of public blockchain technology. We downloaded a csv table (which is included in the git repository) which contains data conerning the price of bitcoin from the first day of every month begining in the August of 2010 all the way to the May of 2024. \n",
    "\n",
    "The original bitcoin data can be found here: https://www.investing.com/crypto/bitcoin/historical-data "
   ]
  },
  {
   "cell_type": "code",
   "execution_count": 25,
   "metadata": {},
   "outputs": [
    {
     "name": "stdout",
     "output_type": "stream",
     "text": [
      "        Date    Price     Open     High      Low     Vol.  Change %\n",
      "0 2024-05-01  61361.9  60665.0  65448.8  56643.5  853.38K    0.0115\n",
      "1 2024-04-01  60666.6  71329.3  72710.8  59228.7    2.66M   -0.1495\n",
      "2 2024-03-01  71332.0  61157.3  73740.9  60138.2    2.70M    0.1661\n",
      "3 2024-02-01  61169.3  42580.1  63915.3  41890.5    1.74M    0.4366\n",
      "4 2024-01-01  42580.5  42272.5  48923.7  38546.9    2.03M    0.0073\n"
     ]
    }
   ],
   "source": [
    "# Path to your CSV file\n",
    "file_path = './data/bitcoindata.csv'\n",
    "\n",
    "# Read the CSV file\n",
    "bitcoin_df = pd.read_csv(\n",
    "    file_path, \n",
    "    thousands=',',  # This tells pandas to treat commas as thousands separators\n",
    "    parse_dates=['Date'],  # Parses the 'Date' column as datetime objects\n",
    "    converters={'Change %': lambda x: float(x.strip('%')) / 100}  # Convert the 'Change %' from string to float and remove the '%' sign\n",
    ")\n",
    "\n",
    "# Display the first few rows of the DataFrame\n",
    "print(bitcoin_df.head())"
   ]
  },
  {
   "cell_type": "markdown",
   "metadata": {},
   "source": [
    "Data concerning the S&P 500, gold, and crude oil were all readily available online in the form of a table. By employing the BeautifulSoap and requests library, these online tables could easily be transformed into easy to manipulate panda tables. \n",
    "\n",
    "The original S&P 500 data can be found here: https://www.macrotrends.net/2324/sp-500-historical-chart-data \n",
    "\n",
    "The original gold data can be found here: https://www.macrotrends.net/1333/historical-gold-prices-100-year-chart \n",
    "\n",
    "The original crude oil data can be found here: https://www.macrotrends.net/1369/crude-oil-price-history-chart "
   ]
  },
  {
   "cell_type": "code",
   "execution_count": 26,
   "metadata": {},
   "outputs": [
    {
     "name": "stdout",
     "output_type": "stream",
     "text": [
      "   Year AverageClosing Price Year Open Year High  Year Low Year Close  \\\n",
      "0  2024             5,035.42  4,742.83  5,254.35  4,688.68   5,222.68   \n",
      "1  2023             4,283.73  3,824.14  4,783.35  3,808.10   4,769.83   \n",
      "\n",
      "  Annual% Change  \n",
      "0          9.49%  \n",
      "1         24.23%  \n",
      "    Year AverageClosing Price Year Open Year High Year Low Year Close  \\\n",
      "95  1929                26.19     24.81     31.86    17.66      21.45   \n",
      "96  1928                19.94     17.76     24.35    16.95      24.35   \n",
      "\n",
      "   Annual% Change  \n",
      "95        -11.91%  \n",
      "96         37.88%  \n",
      "   Year AverageClosing Price  Year Open  Year High   Year Low Year Close  \\\n",
      "0  2024            $2,155.73  $2,064.61  $2,386.60  $1,992.06  $2,360.51   \n",
      "1  2023            $1,943.00  $1,824.16  $2,115.10  $1,811.27  $2,062.92   \n",
      "\n",
      "  Annual% Change  \n",
      "0         14.43%  \n",
      "1         13.08%  \n",
      "    Year AverageClosing Price Year Open Year High Year Low Year Close  \\\n",
      "54  1970               $35.96    $35.13    $39.19   $34.78     $37.38   \n",
      "55  1969               $41.10    $41.80    $43.75   $35.00     $35.21   \n",
      "\n",
      "   Annual% Change  \n",
      "54          6.16%  \n",
      "55        -16.07%  \n",
      "   Year AverageClosing Price Year Open Year High Year Low Year Close  \\\n",
      "0  2024               $78.84    $71.65    $87.01   $70.38     $78.26   \n",
      "1  2023               $77.64    $80.26    $93.84   $66.74     $71.33   \n",
      "\n",
      "  Annual% Change  \n",
      "0          9.72%  \n",
      "1        -11.40%  \n",
      "    Year AverageClosing Price Year Open Year High Year Low Year Close  \\\n",
      "36  1988               $15.97    $17.77    $18.54   $12.58     $17.12   \n",
      "37  1987               $19.20    $18.13    $22.44   $15.12     $16.74   \n",
      "\n",
      "   Annual% Change  \n",
      "36          2.27%  \n",
      "37         -6.64%  \n"
     ]
    }
   ],
   "source": [
    "def get_df(url):\n",
    "    # Start the browser\n",
    "    driver = webdriver.Chrome()\n",
    "    \n",
    "    # Get the page\n",
    "    driver.get(url)\n",
    "\n",
    "    # Get the HTML content after JavaScript execution\n",
    "    html = driver.page_source\n",
    "    soup = BeautifulSoup(html, 'html.parser')\n",
    "\n",
    "    # Find the correct table element and sections within\n",
    "    table = soup.find('table', class_='table')\n",
    "    headers = table.find_all('thead')[1].find_all('th')  # Adjust to select the correct header\n",
    "    rows = table.find('tbody').find_all('tr')\n",
    "    \n",
    "    # Extract header names\n",
    "    header_names = [header.text.strip().replace('\\n', ' ').replace('  ', ' ') for header in headers]\n",
    "\n",
    "    # Extract data from the table rows\n",
    "    data = []\n",
    "    for row in rows:\n",
    "        cols = row.find_all('td')\n",
    "        data.append([col.text.strip() for col in cols])\n",
    "\n",
    "    # Create a DataFrame\n",
    "    if len(data) > 0:  # Check if there is data\n",
    "        df = pd.DataFrame(data, columns=header_names)\n",
    "        print(df.head(2))\n",
    "        print(df.tail(2))\n",
    "        driver.quit()  # Close the browser\n",
    "        df.columns = ['Year', 'Average_Closing_Price', 'Year_Open', 'Year_High', 'Year_Low', 'Year_Close', 'Annual_Change_Percent']\n",
    "        return df\n",
    "    else:\n",
    "        print(\"No data found.\")\n",
    "        driver.quit()  # Close the browser\n",
    "        return None\n",
    "\n",
    "\n",
    "# URLs to scrape\n",
    "etf_df = get_df('https://www.macrotrends.net/2324/sp-500-historical-chart-data')\n",
    "gold_df = get_df('https://www.macrotrends.net/1333/historical-gold-prices-100-year-chart')\n",
    "oil_df = get_df('https://www.macrotrends.net/1369/crude-oil-price-history-chart')\n"
   ]
  },
  {
   "cell_type": "markdown",
   "metadata": {},
   "source": [
    "We have now obtained data frames containing metrics surround all 5 of our assets.\n",
    "\n",
    "One of the most insightful analyses we can conducts is comparing the performance of all these assets over the same time period. In order to accomplish this we will need to manipulate some of the dataframes. \n",
    "\n",
    "Farmland, S&P500, gold, and crude oil data are all simple as their dataframed already contain an average value for every year. We just need to make sure that we graph data from 2000 and onwards so that our future plots do not contain too much information. The bitcoin data will need to be tweaked as it contains data for every month, when we want data for every year."
   ]
  },
  {
   "cell_type": "code",
   "execution_count": 39,
   "metadata": {},
   "outputs": [
    {
     "name": "stdout",
     "output_type": "stream",
     "text": [
      "    Year  Average_Price\n",
      "0   2010       0.180000\n",
      "1   2011       5.683333\n",
      "2   2012       8.450000\n",
      "3   2013     260.350000\n",
      "4   2014     513.041667\n",
      "5   2015     276.225000\n",
      "6   2016     589.800000\n",
      "7   2017    4299.758333\n",
      "8   2018    7183.125000\n",
      "9   2019    7325.841667\n",
      "10  2020   12310.250000\n",
      "11  2021   47000.083333\n",
      "12  2022   27795.808333\n",
      "13  2023   29869.900000\n",
      "14  2024   59422.060000\n"
     ]
    }
   ],
   "source": [
    "# Convert 'Year' to datetime and extract year if necessary\n",
    "gold_df['Year'] = pd.to_datetime(gold_df['Year']).dt.year\n",
    "etf_df['Year'] = pd.to_datetime(etf_df['Year']).dt.year\n",
    "oil_df['Year'] = pd.to_datetime(oil_df['Year']).dt.year\n",
    "\n",
    "# Filter for years 2009 and later\n",
    "gold_df_new = gold_df[gold_df['Year'] >= 2010]\n",
    "etf_df_new = etf_df[etf_df['Year'] >= 2010]\n",
    "oil_df_new = oil_df[oil_df['Year'] >= 2010]\n",
    "\n",
    "\n",
    "# Ensure 'Date' is in datetime format\n",
    "bitcoin_df['Date'] = pd.to_datetime(bitcoin_df['Date'])\n",
    "\n",
    "# Extract year from 'Date'\n",
    "bitcoin_df['Year'] = bitcoin_df['Date'].dt.year\n",
    "\n",
    "# Group by 'Year' and calculate the average price\n",
    "bitcoin_df_averaged_by_year = bitcoin_df.groupby('Year')['Price'].mean().reset_index()\n",
    "\n",
    "# Rename columns for clarity\n",
    "bitcoin_df_averaged_by_year.columns = ['Year', 'Average_Price']\n",
    "\n",
    "# Display the new DataFrame\n",
    "print(bitcoin_df_averaged_by_year)"
   ]
  },
  {
   "cell_type": "markdown",
   "metadata": {},
   "source": [
    "## Part 2: Exploratory Data Analysis "
   ]
  },
  {
   "cell_type": "markdown",
   "metadata": {},
   "source": [
    "Now that we have curated our data into an easily comparable form, lets see which asset makes the best impression on a chart. "
   ]
  },
  {
   "cell_type": "code",
   "execution_count": 40,
   "metadata": {},
   "outputs": [
    {
     "data": {
      "image/png": "[encoded data removed]",
      "text/plain": [
       "<Figure size 1200x800 with 1 Axes>"
      ]
     },
     "metadata": {},
     "output_type": "display_data"
    }
   ],
   "source": [
    "import matplotlib.pyplot as plt\n",
    "\n",
    "# Assuming the DataFrames are already loaded and structured correctly\n",
    "# Sample DataFrame names and columns might need adjusting based on your actual data structure\n",
    "\n",
    "plt.figure(figsize=(12, 8))  # Increase figure size for better readability\n",
    "\n",
    "# Plot each DataFrame using line plots\n",
    "plt.plot(bitcoin_df_averaged_by_year['Year'], bitcoin_df_averaged_by_year['Average_Price'], label='Bitcoin')\n",
    "plt.plot(gold_df_new['Year'], gold_df_new['Average_Closing_Price'], label='Gold')\n",
    "plt.plot(oil_df_new['Year'], oil_df_new['Average_Closing_Price'], label='Oil')\n",
    "plt.plot(etf_df_new['Year'], etf_df_new['Average_Closing_Price'], label='S&P 500')\n",
    "plt.plot(land_df['Year'], land_df['Dollars_Per_Acre'], label='Farm Land')\n",
    "\n",
    "# Setting the range of the x-axis to start from 2000\n",
    "# plt.xlim(2000, max(etf_df['Year'].max(), land_df['Year'].max(), bitcoin_df_averaged_by_year['Year'].max()))\n",
    "\n",
    "# Adding title and labels\n",
    "plt.title('Average Yearly Prices: Bitcoin, Gold, Oil, S&P 500, and Farm Land')\n",
    "plt.xlabel('Year')\n",
    "plt.ylabel('Average Price')\n",
    "\n",
    "# Automatically adjust x-ticks to fit the range of years\n",
    "# plt.xticks(range(2000, int(max(etf_df['Year'].max(), land_df['Year'].max(), bitcoin_df_averaged_by_year['Year'].max())) + 1, 2))\n",
    "\n",
    "plt.legend()  # Show legend to identify each line\n",
    "plt.grid(True)  # Enable grid for better readability\n",
    "\n",
    "# Show the plot\n",
    "plt.show()\n"
   ]
  },
  {
   "cell_type": "code",
   "execution_count": 42,
   "metadata": {},
   "outputs": [
    {
     "ename": "KeyError",
     "evalue": "'Average_Closing_Price'",
     "output_type": "error",
     "traceback": [
      "\u001b[0;31m---------------------------------------------------------------------------\u001b[0m",
      "\u001b[0;31mKeyError\u001b[0m                                  Traceback (most recent call last)",
      "File \u001b[0;32m/Library/Frameworks/Python.framework/Versions/3.11/lib/python3.11/site-packages/pandas/core/indexes/base.py:3802\u001b[0m, in \u001b[0;36mIndex.get_loc\u001b[0;34m(self, key)\u001b[0m\n\u001b[1;32m   3801\u001b[0m \u001b[38;5;28;01mtry\u001b[39;00m:\n\u001b[0;32m-> 3802\u001b[0m     \u001b[38;5;28;01mreturn\u001b[39;00m \u001b[38;5;28;43mself\u001b[39;49m\u001b[38;5;241;43m.\u001b[39;49m\u001b[43m_engine\u001b[49m\u001b[38;5;241;43m.\u001b[39;49m\u001b[43mget_loc\u001b[49m\u001b[43m(\u001b[49m\u001b[43mcasted_key\u001b[49m\u001b[43m)\u001b[49m\n\u001b[1;32m   3803\u001b[0m \u001b[38;5;28;01mexcept\u001b[39;00m \u001b[38;5;167;01mKeyError\u001b[39;00m \u001b[38;5;28;01mas\u001b[39;00m err:\n",
      "File \u001b[0;32mindex.pyx:153\u001b[0m, in \u001b[0;36mpandas._libs.index.IndexEngine.get_loc\u001b[0;34m()\u001b[0m\n",
      "File \u001b[0;32mindex.pyx:182\u001b[0m, in \u001b[0;36mpandas._libs.index.IndexEngine.get_loc\u001b[0;34m()\u001b[0m\n",
      "File \u001b[0;32mpandas/_libs/hashtable_class_helper.pxi:7081\u001b[0m, in \u001b[0;36mpandas._libs.hashtable.PyObjectHashTable.get_item\u001b[0;34m()\u001b[0m\n",
      "File \u001b[0;32mpandas/_libs/hashtable_class_helper.pxi:7089\u001b[0m, in \u001b[0;36mpandas._libs.hashtable.PyObjectHashTable.get_item\u001b[0;34m()\u001b[0m\n",
      "\u001b[0;31mKeyError\u001b[0m: 'Average_Closing_Price'",
      "\nThe above exception was the direct cause of the following exception:\n",
      "\u001b[0;31mKeyError\u001b[0m                                  Traceback (most recent call last)",
      "Cell \u001b[0;32mIn[42], line 27\u001b[0m\n\u001b[1;32m     24\u001b[0m     \u001b[38;5;28;01mreturn\u001b[39;00m df\n\u001b[1;32m     26\u001b[0m \u001b[38;5;66;03m# Apply the function to each asset DataFrame\u001b[39;00m\n\u001b[0;32m---> 27\u001b[0m bitcoin_investment \u001b[38;5;241m=\u001b[39m \u001b[43mcalculate_investment_value\u001b[49m\u001b[43m(\u001b[49m\u001b[43mbitcoin_df_averaged_by_year\u001b[49m\u001b[43m,\u001b[49m\u001b[43m \u001b[49m\u001b[38;5;241;43m2010\u001b[39;49m\u001b[43m,\u001b[49m\u001b[43m \u001b[49m\u001b[38;5;241;43m2\u001b[39;49m\u001b[43m)\u001b[49m\n\u001b[1;32m     28\u001b[0m gold_investment \u001b[38;5;241m=\u001b[39m calculate_investment_value(gold_df, \u001b[38;5;241m2010\u001b[39m, \u001b[38;5;241m0\u001b[39m)\n\u001b[1;32m     29\u001b[0m oil_investment \u001b[38;5;241m=\u001b[39m calculate_investment_value(oil_df, \u001b[38;5;241m2010\u001b[39m, \u001b[38;5;241m0\u001b[39m)\n",
      "Cell \u001b[0;32mIn[42], line 12\u001b[0m, in \u001b[0;36mcalculate_investment_value\u001b[0;34m(df, start_year, initial_investment, val)\u001b[0m\n\u001b[1;32m     10\u001b[0m \u001b[38;5;66;03m# Get the initial price in the starting year\u001b[39;00m\n\u001b[1;32m     11\u001b[0m \u001b[38;5;28;01mif\u001b[39;00m val \u001b[38;5;241m==\u001b[39m \u001b[38;5;241m0\u001b[39m:\n\u001b[0;32m---> 12\u001b[0m     initial_price \u001b[38;5;241m=\u001b[39m \u001b[43mdf\u001b[49m\u001b[43m[\u001b[49m\u001b[43mdf\u001b[49m\u001b[43m[\u001b[49m\u001b[38;5;124;43m'\u001b[39;49m\u001b[38;5;124;43mYear\u001b[39;49m\u001b[38;5;124;43m'\u001b[39;49m\u001b[43m]\u001b[49m\u001b[43m \u001b[49m\u001b[38;5;241;43m==\u001b[39;49m\u001b[43m \u001b[49m\u001b[43mstart_year\u001b[49m\u001b[43m]\u001b[49m\u001b[43m[\u001b[49m\u001b[38;5;124;43m'\u001b[39;49m\u001b[38;5;124;43mAverage_Closing_Price\u001b[39;49m\u001b[38;5;124;43m'\u001b[39;49m\u001b[43m]\u001b[49m\u001b[38;5;241m.\u001b[39miloc[\u001b[38;5;241m0\u001b[39m]\n\u001b[1;32m     13\u001b[0m     amount_of_asset \u001b[38;5;241m=\u001b[39m initial_investment \u001b[38;5;241m/\u001b[39m initial_price\n\u001b[1;32m     14\u001b[0m     df[\u001b[38;5;124m'\u001b[39m\u001b[38;5;124mInvestment_Value\u001b[39m\u001b[38;5;124m'\u001b[39m] \u001b[38;5;241m=\u001b[39m df[\u001b[38;5;124m'\u001b[39m\u001b[38;5;124mAverage_Closing_Price\u001b[39m\u001b[38;5;124m'\u001b[39m] \u001b[38;5;241m*\u001b[39m amount_of_asset\n",
      "File \u001b[0;32m/Library/Frameworks/Python.framework/Versions/3.11/lib/python3.11/site-packages/pandas/core/frame.py:4090\u001b[0m, in \u001b[0;36mDataFrame.__getitem__\u001b[0;34m(self, key)\u001b[0m\n\u001b[1;32m   4088\u001b[0m \u001b[38;5;28;01mif\u001b[39;00m \u001b[38;5;28mself\u001b[39m\u001b[38;5;241m.\u001b[39mcolumns\u001b[38;5;241m.\u001b[39mnlevels \u001b[38;5;241m>\u001b[39m \u001b[38;5;241m1\u001b[39m:\n\u001b[1;32m   4089\u001b[0m     \u001b[38;5;28;01mreturn\u001b[39;00m \u001b[38;5;28mself\u001b[39m\u001b[38;5;241m.\u001b[39m_getitem_multilevel(key)\n\u001b[0;32m-> 4090\u001b[0m indexer \u001b[38;5;241m=\u001b[39m \u001b[38;5;28;43mself\u001b[39;49m\u001b[38;5;241;43m.\u001b[39;49m\u001b[43mcolumns\u001b[49m\u001b[38;5;241;43m.\u001b[39;49m\u001b[43mget_loc\u001b[49m\u001b[43m(\u001b[49m\u001b[43mkey\u001b[49m\u001b[43m)\u001b[49m\n\u001b[1;32m   4091\u001b[0m \u001b[38;5;28;01mif\u001b[39;00m is_integer(indexer):\n\u001b[1;32m   4092\u001b[0m     indexer \u001b[38;5;241m=\u001b[39m [indexer]\n",
      "File \u001b[0;32m/Library/Frameworks/Python.framework/Versions/3.11/lib/python3.11/site-packages/pandas/core/indexes/base.py:3809\u001b[0m, in \u001b[0;36mIndex.get_loc\u001b[0;34m(self, key)\u001b[0m\n\u001b[1;32m   3804\u001b[0m     \u001b[38;5;28;01mif\u001b[39;00m \u001b[38;5;28misinstance\u001b[39m(casted_key, \u001b[38;5;28mslice\u001b[39m) \u001b[38;5;129;01mor\u001b[39;00m (\n\u001b[1;32m   3805\u001b[0m         \u001b[38;5;28misinstance\u001b[39m(casted_key, abc\u001b[38;5;241m.\u001b[39mIterable)\n\u001b[1;32m   3806\u001b[0m         \u001b[38;5;129;01mand\u001b[39;00m \u001b[38;5;28many\u001b[39m(\u001b[38;5;28misinstance\u001b[39m(x, \u001b[38;5;28mslice\u001b[39m) \u001b[38;5;28;01mfor\u001b[39;00m x \u001b[38;5;129;01min\u001b[39;00m casted_key)\n\u001b[1;32m   3807\u001b[0m     ):\n\u001b[1;32m   3808\u001b[0m         \u001b[38;5;28;01mraise\u001b[39;00m InvalidIndexError(key)\n\u001b[0;32m-> 3809\u001b[0m     \u001b[38;5;28;01mraise\u001b[39;00m \u001b[38;5;167;01mKeyError\u001b[39;00m(key) \u001b[38;5;28;01mfrom\u001b[39;00m \u001b[38;5;21;01merr\u001b[39;00m\n\u001b[1;32m   3810\u001b[0m \u001b[38;5;28;01mexcept\u001b[39;00m \u001b[38;5;167;01mTypeError\u001b[39;00m:\n\u001b[1;32m   3811\u001b[0m     \u001b[38;5;66;03m# If we have a listlike key, _check_indexing_error will raise\u001b[39;00m\n\u001b[1;32m   3812\u001b[0m     \u001b[38;5;66;03m#  InvalidIndexError. Otherwise we fall through and re-raise\u001b[39;00m\n\u001b[1;32m   3813\u001b[0m     \u001b[38;5;66;03m#  the TypeError.\u001b[39;00m\n\u001b[1;32m   3814\u001b[0m     \u001b[38;5;28mself\u001b[39m\u001b[38;5;241m.\u001b[39m_check_indexing_error(key)\n",
      "\u001b[0;31mKeyError\u001b[0m: 'Average_Closing_Price'"
     ]
    }
   ],
   "source": [
    "import matplotlib.pyplot as plt\n",
    "import pandas as pd\n",
    "\n",
    "# Assuming each DataFrame has been filtered to start at 2009 or later and has the same structure as before\n",
    "# Ensure the 'Year' column is correctly typed as integers if you're using year comparison\n",
    "# Here's how you might adjust the DataFrame for starting calculations from 2010\n",
    "def calculate_investment_value(df, start_year=2010, initial_investment=1000, val=0):\n",
    "    # Filter to start from the given year\n",
    "    df = df[df['Year'] >= start_year]\n",
    "    # Get the initial price in the starting year\n",
    "    if val == 0:\n",
    "        initial_price = df[df['Year'] == start_year]['Average_Closing_Price'].iloc[0]\n",
    "        amount_of_asset = initial_investment / initial_price\n",
    "        df['Investment_Value'] = df['Average_Closing_Price'] * amount_of_asset\n",
    "    elif val == 1:\n",
    "        initial_price = df[df['Year'] == start_year]['Dollars_Per_Acre'].iloc[0]\n",
    "        amount_of_asset = initial_investment / initial_price\n",
    "        df['Investment_Value'] = df['Dollars_Per_Acre'] * amount_of_asset\n",
    "    else:\n",
    "        initial_price = df[df['Year'] == start_year]['Average_Price'].iloc[0]\n",
    "        amount_of_asset = initial_investment / initial_price\n",
    "        df['Investment_Value'] = df['Average_Price'] * amount_of_asset\n",
    "\n",
    "    return df\n",
    "\n",
    "# Apply the function to each asset DataFrame\n",
    "bitcoin_investment = calculate_investment_value(bitcoin_df_averaged_by_year, 2010, 2)\n",
    "gold_investment = calculate_investment_value(gold_df, 2010, 0)\n",
    "oil_investment = calculate_investment_value(oil_df, 2010, 0)\n",
    "etf_investment = calculate_investment_value(etf_df, 2010, 0)\n",
    "land_investment = calculate_investment_value(land_df, 2010, 1)\n",
    "\n",
    "# Plotting each investment over time\n",
    "plt.figure(figsize=(12, 8))\n",
    "plt.plot(bitcoin_investment['Year'], bitcoin_investment['Investment_Value'], label='Bitcoin')\n",
    "plt.plot(gold_investment['Year'], gold_investment['Investment_Value'], label='Gold')\n",
    "plt.plot(oil_investment['Year'], oil_investment['Investment_Value'], label='Oil')\n",
    "plt.plot(etf_investment['Year'], etf_investment['Investment_Value'], label='ETF')\n",
    "plt.plot(land_investment['Year'], land_investment['Investment_Value'], label='Farm Land')\n",
    "\n",
    "plt.title('Value of $1,000 Investment Over Time')\n",
    "plt.xlabel('Year')\n",
    "plt.ylabel('Value of Investment ($)')\n",
    "plt.legend()\n",
    "plt.grid(True)\n",
    "plt.show()\n"
   ]
  },
  {
   "cell_type": "markdown",
   "metadata": {},
   "source": [
    "## Part 3: Hypothesis Testing and Machine Learning To Provide Analysis"
   ]
  },
  {
   "cell_type": "markdown",
   "metadata": {},
   "source": [
    "## Part 4: Message Curation"
   ]
  }
 ],
 "metadata": {
  "kernelspec": {
   "display_name": "Python 3",
   "language": "python",
   "name": "python3"
  },
  "language_info": {
   "codemirror_mode": {
    "name": "ipython",
    "version": 3
   },
   "file_extension": ".py",
   "mimetype": "text/x-python",
   "name": "python",
   "nbconvert_exporter": "python",
   "pygments_lexer": "ipython3",
   "version": "3.11.1"
  }
 },
 "nbformat": 4,
 "nbformat_minor": 2
}
